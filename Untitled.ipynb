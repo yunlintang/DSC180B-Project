{
 "cells": [
  {
   "cell_type": "code",
   "execution_count": 4,
   "metadata": {},
   "outputs": [],
   "source": [
    "import pandas as pd\n",
    "import numpy as np\n",
    "import json"
   ]
  },
  {
   "cell_type": "code",
   "execution_count": 5,
   "metadata": {},
   "outputs": [],
   "source": [
    "def convert_to_json (filepath):\n",
    "    tweets_json = []\n",
    "    with open(filepath) as f:\n",
    "        for jsonObj in f:\n",
    "            tweetDict = json.loads(jsonObj)\n",
    "            tweets_json.append(tweetDict)\n",
    "    return tweets_json"
   ]
  },
  {
   "cell_type": "code",
   "execution_count": 7,
   "metadata": {},
   "outputs": [],
   "source": [
    "json_file = convert_to_json('2020-08-11.json')"
   ]
  },
  {
   "cell_type": "code",
   "execution_count": 72,
   "metadata": {},
   "outputs": [],
   "source": [
    "text = json_file[0]['full_text']\n",
    "tweet_id = json_file[0]['id']\n",
    "location = json_file[0]['user']['location']\n",
    "retweeted = json_file[1]['retweeted']\n",
    "hashtag = json_file[101]['entities']['hashtags']\n",
    "created_at=json_file[1]['created_at']\n",
    "follower_count = json_file[1]['user']['followers_count']\n",
    "language = json_file[1]['lang']\n",
    "output = []\n",
    "for i in hashtag:\n",
    "    output.append(i['text'])\n"
   ]
  },
  {
   "cell_type": "code",
   "execution_count": 73,
   "metadata": {},
   "outputs": [
    {
     "data": {
      "text/plain": [
       "['ATENCIÓN', 'covid19']"
      ]
     },
     "execution_count": 73,
     "metadata": {},
     "output_type": "execute_result"
    }
   ],
   "source": [
    "output"
   ]
  },
  {
   "cell_type": "code",
   "execution_count": 66,
   "metadata": {},
   "outputs": [
    {
     "data": {
      "text/plain": [
       "{'created_at': 'Tue Aug 11 12:31:51 +0000 2020',\n",
       " 'id': 1293163217234075652,\n",
       " 'id_str': '1293163217234075652',\n",
       " 'full_text': \"RT @elcomerciocom: #ATENCIÓN | Rusia anuncia que desarrolló la 'primera' vacuna contra el #covid19 » https://t.co/l6BxdF6xNZ https://t.co/h…\",\n",
       " 'truncated': False,\n",
       " 'display_text_range': [0, 140],\n",
       " 'entities': {'hashtags': [{'text': 'ATENCIÓN', 'indices': [19, 28]},\n",
       "   {'text': 'covid19', 'indices': [90, 98]}],\n",
       "  'symbols': [],\n",
       "  'user_mentions': [{'screen_name': 'elcomerciocom',\n",
       "    'name': 'El Comercio',\n",
       "    'id': 14333756,\n",
       "    'id_str': '14333756',\n",
       "    'indices': [3, 17]}],\n",
       "  'urls': [{'url': 'https://t.co/l6BxdF6xNZ',\n",
       "    'expanded_url': 'https://bit.ly/VacunRusiCov',\n",
       "    'display_url': 'bit.ly/VacunRusiCov',\n",
       "    'indices': [101, 124]}]},\n",
       " 'source': '<a href=\"http://twitter.com/download/iphone\" rel=\"nofollow\">Twitter for iPhone</a>',\n",
       " 'in_reply_to_status_id': None,\n",
       " 'in_reply_to_status_id_str': None,\n",
       " 'in_reply_to_user_id': None,\n",
       " 'in_reply_to_user_id_str': None,\n",
       " 'in_reply_to_screen_name': None,\n",
       " 'user': {'id': 2958613011,\n",
       "  'id_str': '2958613011',\n",
       "  'name': 'Leoneldario',\n",
       "  'screen_name': 'mildblar101',\n",
       "  'location': 'Santo Domingo, Ecuador',\n",
       "  'description': '',\n",
       "  'url': None,\n",
       "  'entities': {'description': {'urls': []}},\n",
       "  'protected': False,\n",
       "  'followers_count': 73,\n",
       "  'friends_count': 194,\n",
       "  'listed_count': 0,\n",
       "  'created_at': 'Sat Jan 03 15:59:02 +0000 2015',\n",
       "  'favourites_count': 833,\n",
       "  'utc_offset': None,\n",
       "  'time_zone': None,\n",
       "  'geo_enabled': True,\n",
       "  'verified': False,\n",
       "  'statuses_count': 4230,\n",
       "  'lang': None,\n",
       "  'contributors_enabled': False,\n",
       "  'is_translator': False,\n",
       "  'is_translation_enabled': False,\n",
       "  'profile_background_color': 'C0DEED',\n",
       "  'profile_background_image_url': 'http://abs.twimg.com/images/themes/theme1/bg.png',\n",
       "  'profile_background_image_url_https': 'https://abs.twimg.com/images/themes/theme1/bg.png',\n",
       "  'profile_background_tile': False,\n",
       "  'profile_image_url': 'http://pbs.twimg.com/profile_images/1341600977909149699/eDlIxz5c_normal.jpg',\n",
       "  'profile_image_url_https': 'https://pbs.twimg.com/profile_images/1341600977909149699/eDlIxz5c_normal.jpg',\n",
       "  'profile_banner_url': 'https://pbs.twimg.com/profile_banners/2958613011/1586574716',\n",
       "  'profile_image_extensions_alt_text': None,\n",
       "  'profile_banner_extensions_alt_text': None,\n",
       "  'profile_link_color': '1DA1F2',\n",
       "  'profile_sidebar_border_color': 'C0DEED',\n",
       "  'profile_sidebar_fill_color': 'DDEEF6',\n",
       "  'profile_text_color': '333333',\n",
       "  'profile_use_background_image': True,\n",
       "  'has_extended_profile': False,\n",
       "  'default_profile': True,\n",
       "  'default_profile_image': False,\n",
       "  'following': False,\n",
       "  'follow_request_sent': False,\n",
       "  'notifications': False,\n",
       "  'translator_type': 'none'},\n",
       " 'geo': None,\n",
       " 'coordinates': None,\n",
       " 'place': None,\n",
       " 'contributors': None,\n",
       " 'retweeted_status': {'created_at': 'Tue Aug 11 12:20:26 +0000 2020',\n",
       "  'id': 1293160344089767936,\n",
       "  'id_str': '1293160344089767936',\n",
       "  'full_text': \"#ATENCIÓN | Rusia anuncia que desarrolló la 'primera' vacuna contra el #covid19 » https://t.co/l6BxdF6xNZ https://t.co/hDJ3EsuDud\",\n",
       "  'truncated': False,\n",
       "  'display_text_range': [0, 105],\n",
       "  'entities': {'hashtags': [{'text': 'ATENCIÓN', 'indices': [0, 9]},\n",
       "    {'text': 'covid19', 'indices': [71, 79]}],\n",
       "   'symbols': [],\n",
       "   'user_mentions': [],\n",
       "   'urls': [{'url': 'https://t.co/l6BxdF6xNZ',\n",
       "     'expanded_url': 'https://bit.ly/VacunRusiCov',\n",
       "     'display_url': 'bit.ly/VacunRusiCov',\n",
       "     'indices': [82, 105]}],\n",
       "   'media': [{'id': 1293160254486740993,\n",
       "     'id_str': '1293160254486740993',\n",
       "     'indices': [106, 129],\n",
       "     'media_url': 'http://pbs.twimg.com/media/EfI6ZmZWAAEKRdR.jpg',\n",
       "     'media_url_https': 'https://pbs.twimg.com/media/EfI6ZmZWAAEKRdR.jpg',\n",
       "     'url': 'https://t.co/hDJ3EsuDud',\n",
       "     'display_url': 'pic.twitter.com/hDJ3EsuDud',\n",
       "     'expanded_url': 'https://twitter.com/elcomerciocom/status/1293160344089767936/photo/1',\n",
       "     'type': 'photo',\n",
       "     'sizes': {'large': {'w': 1000, 'h': 1000, 'resize': 'fit'},\n",
       "      'thumb': {'w': 150, 'h': 150, 'resize': 'crop'},\n",
       "      'small': {'w': 680, 'h': 680, 'resize': 'fit'},\n",
       "      'medium': {'w': 1000, 'h': 1000, 'resize': 'fit'}}}]},\n",
       "  'extended_entities': {'media': [{'id': 1293160254486740993,\n",
       "     'id_str': '1293160254486740993',\n",
       "     'indices': [106, 129],\n",
       "     'media_url': 'http://pbs.twimg.com/media/EfI6ZmZWAAEKRdR.jpg',\n",
       "     'media_url_https': 'https://pbs.twimg.com/media/EfI6ZmZWAAEKRdR.jpg',\n",
       "     'url': 'https://t.co/hDJ3EsuDud',\n",
       "     'display_url': 'pic.twitter.com/hDJ3EsuDud',\n",
       "     'expanded_url': 'https://twitter.com/elcomerciocom/status/1293160344089767936/photo/1',\n",
       "     'type': 'photo',\n",
       "     'sizes': {'large': {'w': 1000, 'h': 1000, 'resize': 'fit'},\n",
       "      'thumb': {'w': 150, 'h': 150, 'resize': 'crop'},\n",
       "      'small': {'w': 680, 'h': 680, 'resize': 'fit'},\n",
       "      'medium': {'w': 1000, 'h': 1000, 'resize': 'fit'}},\n",
       "     'ext_alt_text': None}]},\n",
       "  'source': '<a href=\"https://mobile.twitter.com\" rel=\"nofollow\">Twitter Web App</a>',\n",
       "  'in_reply_to_status_id': None,\n",
       "  'in_reply_to_status_id_str': None,\n",
       "  'in_reply_to_user_id': None,\n",
       "  'in_reply_to_user_id_str': None,\n",
       "  'in_reply_to_screen_name': None,\n",
       "  'user': {'id': 14333756,\n",
       "   'id_str': '14333756',\n",
       "   'name': 'El Comercio',\n",
       "   'screen_name': 'elcomerciocom',\n",
       "   'location': 'Ecuador',\n",
       "   'description': 'El Diario informativo más comprometido con la gente de Ecuador. En Facebook, Instagram y TikTok nos encuentras como @elcomerciocom',\n",
       "   'url': 'https://t.co/ybctD4cRAO',\n",
       "   'entities': {'url': {'urls': [{'url': 'https://t.co/ybctD4cRAO',\n",
       "       'expanded_url': 'http://www.elcomercio.com',\n",
       "       'display_url': 'elcomercio.com',\n",
       "       'indices': [0, 23]}]},\n",
       "    'description': {'urls': []}},\n",
       "   'protected': False,\n",
       "   'followers_count': 1802273,\n",
       "   'friends_count': 4308,\n",
       "   'listed_count': 3992,\n",
       "   'created_at': 'Tue Apr 08 16:32:05 +0000 2008',\n",
       "   'favourites_count': 1380,\n",
       "   'utc_offset': None,\n",
       "   'time_zone': None,\n",
       "   'geo_enabled': True,\n",
       "   'verified': True,\n",
       "   'statuses_count': 277939,\n",
       "   'lang': None,\n",
       "   'contributors_enabled': False,\n",
       "   'is_translator': False,\n",
       "   'is_translation_enabled': False,\n",
       "   'profile_background_color': 'C0DEED',\n",
       "   'profile_background_image_url': 'http://abs.twimg.com/images/themes/theme1/bg.png',\n",
       "   'profile_background_image_url_https': 'https://abs.twimg.com/images/themes/theme1/bg.png',\n",
       "   'profile_background_tile': False,\n",
       "   'profile_image_url': 'http://pbs.twimg.com/profile_images/1347345926533349382/4UqSVrRu_normal.jpg',\n",
       "   'profile_image_url_https': 'https://pbs.twimg.com/profile_images/1347345926533349382/4UqSVrRu_normal.jpg',\n",
       "   'profile_banner_url': 'https://pbs.twimg.com/profile_banners/14333756/1546465954',\n",
       "   'profile_image_extensions_alt_text': None,\n",
       "   'profile_banner_extensions_alt_text': None,\n",
       "   'profile_link_color': '1DA1F2',\n",
       "   'profile_sidebar_border_color': 'C0DEED',\n",
       "   'profile_sidebar_fill_color': 'DDEEF6',\n",
       "   'profile_text_color': '333333',\n",
       "   'profile_use_background_image': True,\n",
       "   'has_extended_profile': False,\n",
       "   'default_profile': True,\n",
       "   'default_profile_image': False,\n",
       "   'following': False,\n",
       "   'follow_request_sent': False,\n",
       "   'notifications': False,\n",
       "   'translator_type': 'none'},\n",
       "  'geo': None,\n",
       "  'coordinates': None,\n",
       "  'place': None,\n",
       "  'contributors': None,\n",
       "  'is_quote_status': False,\n",
       "  'retweet_count': 419,\n",
       "  'favorite_count': 1224,\n",
       "  'favorited': False,\n",
       "  'retweeted': False,\n",
       "  'possibly_sensitive': False,\n",
       "  'lang': 'es'},\n",
       " 'is_quote_status': False,\n",
       " 'retweet_count': 419,\n",
       " 'favorite_count': 0,\n",
       " 'favorited': False,\n",
       " 'retweeted': False,\n",
       " 'possibly_sensitive': False,\n",
       " 'lang': 'es'}"
      ]
     },
     "execution_count": 66,
     "metadata": {},
     "output_type": "execute_result"
    }
   ],
   "source": [
    "json_file[101]"
   ]
  },
  {
   "cell_type": "code",
   "execution_count": 75,
   "metadata": {},
   "outputs": [
    {
     "data": {
      "text/html": [
       "<div>\n",
       "<style scoped>\n",
       "    .dataframe tbody tr th:only-of-type {\n",
       "        vertical-align: middle;\n",
       "    }\n",
       "\n",
       "    .dataframe tbody tr th {\n",
       "        vertical-align: top;\n",
       "    }\n",
       "\n",
       "    .dataframe thead th {\n",
       "        text-align: right;\n",
       "    }\n",
       "</style>\n",
       "<table border=\"1\" class=\"dataframe\">\n",
       "  <thead>\n",
       "    <tr style=\"text-align: right;\">\n",
       "      <th></th>\n",
       "      <th>tweet_id</th>\n",
       "      <th>text</th>\n",
       "      <th>location</th>\n",
       "      <th>retweeted</th>\n",
       "      <th>hashtag</th>\n",
       "      <th>follower_count</th>\n",
       "      <th>created_at</th>\n",
       "      <th>language</th>\n",
       "    </tr>\n",
       "  </thead>\n",
       "  <tbody>\n",
       "  </tbody>\n",
       "</table>\n",
       "</div>"
      ],
      "text/plain": [
       "Empty DataFrame\n",
       "Columns: [tweet_id, text, location, retweeted, hashtag, follower_count, created_at, language]\n",
       "Index: []"
      ]
     },
     "execution_count": 75,
     "metadata": {},
     "output_type": "execute_result"
    }
   ],
   "source": [
    "df = pd.DataFrame(columns=['tweet_id', 'text', 'location','retweeted','hashtag','follower_count','created_at', 'language'])\n",
    "df"
   ]
  },
  {
   "cell_type": "code",
   "execution_count": 77,
   "metadata": {},
   "outputs": [],
   "source": [
    "counter = 0\n",
    "for i in json_file:\n",
    "    text = i['full_text']\n",
    "    tweet_id = i['id']\n",
    "    location = i['user']['location']\n",
    "    retweeted = i['retweeted']\n",
    "    hashtag = i['entities']['hashtags']\n",
    "    \n",
    "    hashtag_text = []\n",
    "    for j in hashtag:\n",
    "        hashtag_text.append(j['text'])\n",
    "    \n",
    "    created_at=i['created_at']\n",
    "    follower_count = i['user']['followers_count']\n",
    "    language = i['lang']\n",
    "    \n",
    "    df.loc[counter] = [tweet_id, text, location,retweeted,hashtag_text,follower_count,created_at, language]\n",
    "    counter+=1"
   ]
  },
  {
   "cell_type": "code",
   "execution_count": 78,
   "metadata": {},
   "outputs": [],
   "source": [
    "df.to_csv('2020-08-11.csv')"
   ]
  },
  {
   "cell_type": "code",
   "execution_count": 80,
   "metadata": {},
   "outputs": [
    {
     "data": {
      "text/plain": [
       "'2020-08-11.csv'"
      ]
     },
     "execution_count": 80,
     "metadata": {},
     "output_type": "execute_result"
    }
   ],
   "source": [
    "filepath = '2020-08-11.csv'\n",
    "filepath[:-4]+'.csv'"
   ]
  },
  {
   "cell_type": "code",
   "execution_count": null,
   "metadata": {},
   "outputs": [],
   "source": []
  }
 ],
 "metadata": {
  "kernelspec": {
   "display_name": "Python 3",
   "language": "python",
   "name": "python3"
  },
  "language_info": {
   "codemirror_mode": {
    "name": "ipython",
    "version": 3
   },
   "file_extension": ".py",
   "mimetype": "text/x-python",
   "name": "python",
   "nbconvert_exporter": "python",
   "pygments_lexer": "ipython3",
   "version": "3.7.4"
  }
 },
 "nbformat": 4,
 "nbformat_minor": 2
}
